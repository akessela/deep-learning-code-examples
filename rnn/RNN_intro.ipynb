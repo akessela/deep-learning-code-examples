{
  "nbformat": 4,
  "nbformat_minor": 0,
  "metadata": {
    "colab": {
      "provenance": [],
      "authorship_tag": "ABX9TyNeYNa60bB9iv+rd/UPy/Fm",
      "include_colab_link": true
    },
    "kernelspec": {
      "name": "python3",
      "display_name": "Python 3"
    },
    "language_info": {
      "name": "python"
    }
  },
  "cells": [
    {
      "cell_type": "markdown",
      "metadata": {
        "id": "view-in-github",
        "colab_type": "text"
      },
      "source": [
        "<a href=\"https://colab.research.google.com/github/akessela/deep-learning-code-examples/blob/main/rnn/RNN_intro.ipynb\" target=\"_parent\"><img src=\"https://colab.research.google.com/assets/colab-badge.svg\" alt=\"Open In Colab\"/></a>"
      ]
    },
    {
      "cell_type": "code",
      "source": [
        "import torch\n",
        "import torch.nn as nn\n",
        "import torch.optim as optim\n",
        "from sklearn.preprocessing import LabelEncoder\n",
        "from sklearn.feature_extraction.text import CountVectorizer\n",
        "from torch.utils.data import Dataset, DataLoader\n",
        "\n",
        "# Define the dataset\n",
        "class TweetDataset(Dataset):\n",
        "    def __init__(self, texts, labels):\n",
        "        self.texts = texts\n",
        "        self.labels = labels\n",
        "\n",
        "    def __len__(self):\n",
        "        return len(self.texts)\n",
        "\n",
        "    def __getitem__(self, idx):\n",
        "        return torch.tensor(self.texts[idx], dtype=torch.long), torch.tensor(self.labels[idx], dtype=torch.long)\n",
        "\n",
        "# Sample tweets and labels\n",
        "tweets = [\n",
        "    \"I love the new movie I watched yesterday! It was fantastic.\",\n",
        "    \"Just had a terrible experience at the restaurant. Never going back.\",\n",
        "    \"Feeling really happy today! The weather is perfect and everything is going well.\",\n",
        "    \"I'm so frustrated with my work right now. Nothing seems to be going right.\",\n",
        "    \"Had a wonderful day out with friends. Great food and great company!\",\n",
        "    \"I'm disappointed with the new update. It made things worse.\",\n",
        "    \"Today is such a beautiful day. I can't wait to go for a walk in the park!\",\n",
        "    \"I'm really sad about the news I received today. Things are tough right now.\",\n",
        "    \"Just finished a great book. Highly recommend it to anyone who loves thrillers!\",\n",
        "    \"Had a stressful day at work, but I'm hopeful things will improve soon.\"\n",
        "]\n",
        "labels = [1, 0, 1, 0, 1, 0, 1, 0, 1, 0]  # 1 = Positive, 0 = Negative\n",
        "\n",
        "# Encode labels\n",
        "label_encoder = LabelEncoder()\n",
        "labels = label_encoder.fit_transform(labels)\n",
        "\n",
        "# Vectorize tweets\n",
        "vectorizer = CountVectorizer()\n",
        "X = vectorizer.fit_transform(tweets).toarray()\n",
        "\n",
        "# Prepare DataLoader\n",
        "dataset = TweetDataset(X, labels)\n",
        "dataloader = DataLoader(dataset, batch_size=2, shuffle=True)\n"
      ],
      "metadata": {
        "id": "c_rA6r93hpwi"
      },
      "execution_count": 13,
      "outputs": []
    },
    {
      "cell_type": "code",
      "source": [
        "class SimpleRNN(nn.Module):\n",
        "    def __init__(self, input_size, hidden_size, output_size):\n",
        "        super(SimpleRNN, self).__init__()\n",
        "        self.rnn = nn.RNN(input_size, hidden_size, batch_first=True)\n",
        "        self.fc = nn.Linear(hidden_size, output_size)\n",
        "        self.softmax = nn.Softmax(dim=1)\n",
        "\n",
        "    def forward(self, x):\n",
        "        h0 = torch.zeros(1, x.size(0), hidden_size).to(x.device)\n",
        "        out, _ = self.rnn(x, h0)\n",
        "        out = self.fc(out[:, -1, :])\n",
        "        return self.softmax(out)\n",
        "\n",
        "# Hyperparameters\n",
        "input_size = X.shape[1]  # Size of input features\n",
        "hidden_size = 128\n",
        "output_size = 2  # Positive or Negative\n",
        "num_epochs = 5\n",
        "learning_rate = 0.001\n",
        "\n",
        "# Model, Loss and Optimizer\n",
        "model = SimpleRNN(input_size, hidden_size, output_size)\n",
        "criterion = nn.CrossEntropyLoss()\n",
        "optimizer = optim.Adam(model.parameters(), lr=learning_rate)\n",
        "\n",
        "# Training Loop\n",
        "for epoch in range(num_epochs):\n",
        "    for texts, labels in dataloader:\n",
        "        texts = texts.float()  # Convert to float type\n",
        "        outputs = model(texts.unsqueeze(1))  # Add sequence dimension\n",
        "        loss = criterion(outputs, labels)\n",
        "        optimizer.zero_grad()\n",
        "        loss.backward()\n",
        "        optimizer.step()\n",
        "    print(f'Epoch [{epoch+1}/{num_epochs}], Loss: {loss.item():.4f}')"
      ],
      "metadata": {
        "colab": {
          "base_uri": "https://localhost:8080/"
        },
        "id": "OBmjLSW-sEeR",
        "outputId": "9c1f4b30-33c0-40c3-cd5e-c59ada72d160"
      },
      "execution_count": 14,
      "outputs": [
        {
          "output_type": "stream",
          "name": "stdout",
          "text": [
            "Epoch [1/5], Loss: 0.7059\n",
            "Epoch [2/5], Loss: 0.6463\n",
            "Epoch [3/5], Loss: 0.6170\n",
            "Epoch [4/5], Loss: 0.5759\n",
            "Epoch [5/5], Loss: 0.4952\n"
          ]
        }
      ]
    },
    {
      "cell_type": "code",
      "source": [
        "def predict_sentiment(model, text, vectorizer, device='cpu'):\n",
        "    model.eval()\n",
        "    with torch.no_grad():\n",
        "        # Vectorize the input text\n",
        "        text_vector = vectorizer.transform([text]).toarray()\n",
        "        text_tensor = torch.tensor(text_vector, dtype=torch.float32).unsqueeze(1).to(device)\n",
        "        # Predict\n",
        "        output = model(text_tensor)\n",
        "        _, predicted = torch.max(output, 1)\n",
        "        return 'Positive' if predicted.item() == 1 else 'Negative'\n",
        "\n",
        "# Example usage\n",
        "test_text = \"I had an amazing day at the park!\"\n",
        "sentiment = predict_sentiment(model, test_text, vectorizer)\n",
        "print(f'The sentiment of the text is: {sentiment}')\n"
      ],
      "metadata": {
        "colab": {
          "base_uri": "https://localhost:8080/"
        },
        "id": "KIyF1arxsPYj",
        "outputId": "5aa64bfa-e8de-497f-97ab-109c20522090"
      },
      "execution_count": 15,
      "outputs": [
        {
          "output_type": "stream",
          "name": "stdout",
          "text": [
            "The sentiment of the text is: Positive\n"
          ]
        }
      ]
    }
  ]
}